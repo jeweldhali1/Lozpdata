{
 "cells": [
  {
   "cell_type": "markdown",
   "metadata": {},
   "source": [
    "## What is machine learning\n",
    "\n",
    "#### Machine learning is an application of artificial intelligence (AI) that provides systems the ability to automatically learn and improve from experience without being explicitly programmed. Machine learning focuses on the development of computer programs that can access data and use it learn for themselves.\n",
    "#### The process of learning begins with observations or data, such as examples, direct experience, or instruction, in order to look for patterns in data and make better decisions in the future based on the examples that we provide. \n",
    "\n",
    "## Some machine learning methods\n",
    "   1. Supervised machine learning algorithms\n",
    "   2. unsupervised machine learning algorithms\n",
    "   3. Semi-supervised machine learning algorithms\n",
    "   4. Reinforcement machine learning algorithms "
   ]
  },
  {
   "cell_type": "markdown",
   "metadata": {},
   "source": [
    "## Supervised machine learning algorithms\n",
    "#### Supervised machine learning algorithms is labeled data where the target variable is present. This algorithms predict future events by the past data. Supervised machine learning algorithms are two types-\n",
    "\n",
    "   1. Regression \n",
    "   2. Classification\n",
    "   \n",
    " \n",
    " ### Regression: The target variavle is continious data. Some Regression model is-\n",
    "     1. Simple Regression\n",
    "     2. Multiple Regression\n",
    "     3. Polynomial Regression\n",
    "     4. Support Vector Regression\n",
    "     5. Decision Tree Regression\n",
    "     6. Random Forest Regression\n",
    " \n",
    " \n",
    "  ### Classification: The target variavle is boolean data. Some Classification model is-\n",
    "     1. Logistic Regression\n",
    "     2. K-Nearest Neighbors\n",
    "     3. Support Vector Machine\n",
    "     4. Kernel SVM\n",
    "     5. Naive Bayes\n",
    "     6. Decision Tree Classification\n",
    "     7. Random Forest Classification\n"
   ]
  },
  {
   "cell_type": "markdown",
   "metadata": {},
   "source": [
    "## unsupervised machine learning algorithms\n",
    "#### Unsupervised machine learning algorithms is unlabeled data where the target variable is not present. This algorithms Used for Clustering. Unsupervised machine learning algorithms are-\n",
    "  \n",
    "  1. K-Means Clustering\n",
    "  2. Hierarchical Clustering"
   ]
  },
  {
   "cell_type": "markdown",
   "metadata": {},
   "source": [
    "## Semi-supervised machine learning algorithms\n",
    "#### Semi-supervised machine learning algorithms fall somewhere in between supervised and unsupervised learning, since they use both labeled and unlabeled data for training – typically a small amount of labeled data and a large amount of unlabeled data. The systems that use this method are able to considerably improve learning accuracy. Usually, semi-supervised learning is chosen when the acquired labeled data requires skilled and relevant resources in order to train it / learn from it. Otherwise, acquiring unlabeled data generally doesn’t require additional resources. Semi-supervised machine learning algorithms are -\n",
    " 1. Apriori\n",
    " 2. Elcat"
   ]
  },
  {
   "cell_type": "markdown",
   "metadata": {},
   "source": [
    "## Reinforcement machine learning algorithms\n",
    "#### Reinforcement machine learning algorithms is a learning method that interacts with its environment by producing actions and discovers errors or rewards. Trial and error search and delayed reward are the most relevant characteristics of reinforcement learning. This method allows machines and software agents to automatically determine the ideal behavior within a specific context in order to maximize its performance. Simple reward feedback is required for the agent to learn which action is best; this is known as the reinforcement signal. Reinforcement machine learning algorithms are - \n",
    "\n",
    "  1. Upper Confidence Bound(UCB)\n",
    "  2. Thompson Sampling"
   ]
  },
  {
   "cell_type": "code",
   "execution_count": null,
   "metadata": {},
   "outputs": [],
   "source": []
  }
 ],
 "metadata": {
  "kernelspec": {
   "display_name": "Python 3",
   "language": "python",
   "name": "python3"
  },
  "language_info": {
   "codemirror_mode": {
    "name": "ipython",
    "version": 3
   },
   "file_extension": ".py",
   "mimetype": "text/x-python",
   "name": "python",
   "nbconvert_exporter": "python",
   "pygments_lexer": "ipython3",
   "version": "3.7.6"
  }
 },
 "nbformat": 4,
 "nbformat_minor": 4
}
